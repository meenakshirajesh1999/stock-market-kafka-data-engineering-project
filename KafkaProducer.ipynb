{
 "cells": [
  {
   "cell_type": "code",
   "execution_count": null,
   "id": "16b19cdc",
   "metadata": {},
   "outputs": [],
   "source": [
    "pip install kafka-python yfinance pandas"
   ]
  },
  {
   "cell_type": "code",
   "execution_count": null,
   "id": "e11d73b3",
   "metadata": {},
   "outputs": [],
   "source": [
    "import pandas as pd\n",
    "from kafka import KafkaProducer\n",
    "from time import sleep\n",
    "from json import dumps\n",
    "import yfinance as yf\n",
    "from datetime import datetime"
   ]
  },
  {
   "cell_type": "code",
   "execution_count": null,
   "id": "b483a0e4",
   "metadata": {},
   "outputs": [],
   "source": [
    "producer = KafkaProducer(\n",
    "    bootstrap_servers=['65.2.198.105:9092'],  # Replace with your Kafka server IP\n",
    "    value_serializer=lambda x: dumps(x).encode('utf-8')\n",
    ")"
   ]
  },
  {
   "cell_type": "code",
   "execution_count": null,
   "id": "0c30b915",
   "metadata": {},
   "outputs": [],
   "source": [
    "producer.send('demo_test', value={'rajesh':'meenakshi'})"
   ]
  },
  {
   "cell_type": "code",
   "execution_count": null,
   "id": "1c8490cf",
   "metadata": {},
   "outputs": [],
   "source": [
    "ticker_symbols = ['AAPL', 'GOOGL', 'MSFT', 'AMZN', 'TSLA']"
   ]
  },
  {
   "cell_type": "code",
   "execution_count": null,
   "id": "58ee74ab",
   "metadata": {},
   "outputs": [],
   "source": [
    "def get_multiple_stocks_data(tickers):\n",
    "    stock_data = yf.download(tickers, period=\"1d\", interval=\"1m\", group_by='ticker')\n",
    "    latest_data = {}\n",
    "    \n",
    "    # Iterate over each ticker to get the most recent record\n",
    "    for ticker in tickers:\n",
    "        ticker_data = stock_data[ticker].tail(1).reset_index()\n",
    "        if not ticker_data.empty:\n",
    "            # Convert the latest record to a dictionary and add a timestamp\n",
    "            latest_data[ticker] = ticker_data.to_dict(orient='records')[0]\n",
    "            latest_data[ticker]['timestamp'] = datetime.now().strftime('%Y-%m-%d %H:%M:%S')\n",
    "    \n",
    "    return latest_data"
   ]
  },
  {
   "cell_type": "code",
   "execution_count": null,
   "id": "2603b285",
   "metadata": {},
   "outputs": [],
   "source": [
    "while True:\n",
    "    stock_data = get_multiple_stocks_data(ticker_symbols)\n",
    "\n",
    "    # Send each stock's data to Kafka\n",
    "    for ticker, data in stock_data.items():\n",
    "        producer.send('demo_test', value={ticker: data})\n",
    "        print(f\"Sent data to Kafka for {ticker}: {data}\")\n",
    "\n",
    "    sleep(60) "
   ]
  },
  {
   "cell_type": "code",
   "execution_count": null,
   "id": "ed71c0e4",
   "metadata": {},
   "outputs": [],
   "source": [
    "producer.flush() #clear data from kafka server"
   ]
  }
 ],
 "metadata": {
  "kernelspec": {
   "display_name": "Python 3",
   "language": "python",
   "name": "python3"
  },
  "language_info": {
   "codemirror_mode": {
    "name": "ipython",
    "version": 3
   },
   "file_extension": ".py",
   "mimetype": "text/x-python",
   "name": "python",
   "nbconvert_exporter": "python",
   "pygments_lexer": "ipython3",
   "version": "3.12.1"
  }
 },
 "nbformat": 4,
 "nbformat_minor": 5
}
